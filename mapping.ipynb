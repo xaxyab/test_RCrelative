{
 "cells": [
  {
   "cell_type": "code",
   "execution_count": 2,
   "id": "728e33f1",
   "metadata": {
    "ExecuteTime": {
     "end_time": "2023-03-09T15:04:23.765278Z",
     "start_time": "2023-03-09T15:04:22.548732Z"
    }
   },
   "outputs": [
    {
     "ename": "ModuleNotFoundError",
     "evalue": "No module named 'cv2'",
     "output_type": "error",
     "traceback": [
      "\u001b[1;31m---------------------------------------------------------------------------\u001b[0m",
      "\u001b[1;31mModuleNotFoundError\u001b[0m                       Traceback (most recent call last)",
      "\u001b[1;32m~\\AppData\\Local\\Temp\\ipykernel_5088\\149333494.py\u001b[0m in \u001b[0;36m<module>\u001b[1;34m\u001b[0m\n\u001b[0;32m     13\u001b[0m     \u001b[1;32mimport\u001b[0m \u001b[0mxml\u001b[0m\u001b[1;33m.\u001b[0m\u001b[0metree\u001b[0m\u001b[1;33m.\u001b[0m\u001b[0mElementTree\u001b[0m \u001b[1;32mas\u001b[0m \u001b[0mET\u001b[0m\u001b[1;33m\u001b[0m\u001b[1;33m\u001b[0m\u001b[0m\n\u001b[0;32m     14\u001b[0m \u001b[1;32mimport\u001b[0m \u001b[0mmatplotlib\u001b[0m\u001b[1;33m.\u001b[0m\u001b[0mpyplot\u001b[0m \u001b[1;32mas\u001b[0m \u001b[0mplt\u001b[0m\u001b[1;33m\u001b[0m\u001b[1;33m\u001b[0m\u001b[0m\n\u001b[1;32m---> 15\u001b[1;33m \u001b[1;32mimport\u001b[0m \u001b[0mcv2\u001b[0m \u001b[1;32mas\u001b[0m \u001b[0mcv\u001b[0m\u001b[1;33m\u001b[0m\u001b[1;33m\u001b[0m\u001b[0m\n\u001b[0m",
      "\u001b[1;31mModuleNotFoundError\u001b[0m: No module named 'cv2'"
     ]
    }
   ],
   "source": [
    "import numpy as np\n",
    "import pandas as pd\n",
    "import tkinter as tk\n",
    "from tkinter import filedialog\n",
    "import matplotlib.pyplot as plt\n",
    "import os\n",
    "import xml.etree.ElementTree as ET\n",
    "import math\n",
    "import scipy.signal as signal\n",
    "try:\n",
    "    import xml.etree.cElementTree as ET\n",
    "except ImportError:\n",
    "    import xml.etree.ElementTree as ET\n",
    "import matplotlib.pyplot as plt\n",
    "import cv2 as cv"
   ]
  },
  {
   "cell_type": "code",
   "execution_count": null,
   "id": "3b3ee964",
   "metadata": {},
   "outputs": [],
   "source": [
    "### 加载信号数据\n",
    "def load_signal(path):\n",
    "    with open(path, 'r', encoding='utf-8', errors='ignore') as f:\n",
    "        data = list(float(x) for x in filter(None,f.read().split(\"\\t\"))) ##过滤空值,按列存储；f.read()一次性读取文件有内存溢出风险\n",
    "        \n",
    "    return data"
   ]
  },
  {
   "cell_type": "code",
   "execution_count": null,
   "id": "7c8bf950",
   "metadata": {
    "code_folding": []
   },
   "outputs": [],
   "source": [
    "### 信号读取并预处理--开关标准化（0，1），功率信号中值滤波去噪\n",
    "def load_data(path,method_denoise=\"medfilt\",INDEX=0): \n",
    "    list_ = os.listdir(path)\n",
    "    data11 = load_signal(path + \"\\\\\" + list_[INDEX * 3 + 1])  #INDEX考虑激光器索引 默认list_[0]为xml路径文件\n",
    "    data12 = load_signal(path + \"\\\\\" + list_[INDEX * 3 + 2])\n",
    "    data13 = load_signal(path + \"\\\\\" + list_[INDEX * 3 + 3])\n",
    "    data12_nor = np.where(np.array(data12) > 2500, 1, 0)  # 开关数据处理为0，1数据\n",
    "    method_denoises = {\"medfilt\": denoise.medfilt,  ###降噪算法 #中值滤波\n",
    "                       \"MedianAverage\": denoise.MedianAverage,  #中位值平均滤波降噪\n",
    "                       \"SlidingAverage\": denoise.SlidingAverage,  #移动平均滤波降噪\n",
    "                       \"wave_denoise\": denoise.wave_denoise,  # 小波去噪\n",
    "                       \"wave_denoise1\": denoise.wave_denoise1,  #小波近似层\n",
    "                       \"Fourier_denoise\":denoise.Fourier_denoise,\n",
    "                       \"usv_denoise\":denoise.usv_denoise,\n",
    "                       \"AmplitudeLimitingAverage\":denoise.AmplitudeLimitingAverage}\n",
    "    data_13_nonoise=method_denoises[method_denoise](data13) #功率信号中中值滤波\n",
    "    data11 = method_denoises[method_denoise](data11)   #强度信号中值滤波\n",
    "    if(data_13_nonoise[-1] != 0):\n",
    "        data_13_nonoise[-1] = 0                       #功率非低电平结尾处理\n",
    "    print(len(data11), len(data12_nor), len(data_13_nonoise))  #数据长度信息\n",
    "    return list_, data11, data12_nor, data_13_nonoise"
   ]
  },
  {
   "cell_type": "code",
   "execution_count": null,
   "id": "1da09d11",
   "metadata": {},
   "outputs": [],
   "source": [
    "#####开关上升索引及下降索引#####\n",
    "def switch_index(data12_nor):\n",
    "    cur_up_index= list(np.where(np.diff(data12_nor) > 0)[0])\n",
    "    cur_down_index = list(np.where(np.diff(data12_nor) < 0)[0])\n",
    "    if data12_nor[len(data12_nor) - 1] == 1:  \n",
    "        cur_down_index.append(len(data12_nor) - 1)   #以上升沿结尾的处理？？？\n",
    "    ##判断上升和下降起始位置顺序\n",
    "    if len(cur_up_index) == 0 or len(cur_down_index) == 0:\n",
    "        cur_up_index=[]\n",
    "        cur_down_index= []\n",
    "    else:\n",
    "        if cur_up_index[0] > cur_down_index[0]:\n",
    "            cur_down_index = cur_down_index[1:]  #如果上升沿起始索引大于下降沿，下降沿索引后移一位？？？ \n",
    "    return cur_up_index, cur_down_index\n"
   ]
  },
  {
   "cell_type": "code",
   "execution_count": null,
   "id": "65c47000",
   "metadata": {},
   "outputs": [],
   "source": [
    "#####合并列表2023.1.6修改#####  功率相同时合并，pandas应该有内置算法。\n",
    "def concat_func(row):\n",
    "    return pd.Series({\n",
    "        'speed':np.append((row['speed'].values)[0],(row['speed'].values)[1]), ##int型\n",
    "        'laser_index': int(row['laser_index'].unique()), #np.append((row['laser_index'].values)[0],(row['laser_index'].values)[1]),  ##拼接\n",
    "        'count':  np.append((row['count'].values)[0],(row['count'].values)[1]),\n",
    "        'type':  np.append((row['type'].values)[0],(row['type'].values)[1]),\n",
    "        'polyline': (row['polyline'].values)[0]+(row['polyline'].values)[1]\n",
    "    })\n",
    "def concat_adjacent_power(data_feature):\n",
    "    ##2022.11.29power相等合并特征\n",
    "    drop_index = []\n",
    "    for i in range(len(data_feature)-1):\n",
    "        if data_feature['power'][i]==data_feature['power'][i+1]:\n",
    "            data_feature[i:i + 2]=data_feature[i:i + 2].groupby(data_feature['power']).apply(\n",
    "                lambda row: concat_func(row)).reset_index()  # 合并相邻两个power相等的行\n",
    "            drop_index.append(i)\n",
    "    data_feature=data_feature.drop(labels=drop_index,axis=0)\n",
    "    return data_feature"
   ]
  },
  {
   "cell_type": "code",
   "execution_count": null,
   "id": "56ddab9a",
   "metadata": {},
   "outputs": [],
   "source": [
    "#解析xml，并将扫描策略排序\n",
    "def extract_path_xml(xml_path, INDEX=0):\n",
    "    tree = ET.parse(xml_path)\n",
    "    feature = tree.findall(\"FEATURE\")\n",
    "    data_feature_original = pd.DataFrame()  ##创建空表\n",
    "    for i, child_f in enumerate(feature):\n",
    "        index_ = int(child_f.get('INDEX')) #获取feature的几个属性index=0,1代表不同激光器\n",
    "        type_ = int(child_f.get('TYPE')) # 不同特征，5为实体\n",
    "        count_ = int(child_f.get('COUNT')) #count=1，0，代表扫描几次\n",
    "        power_ = int(child_f.get('POWER')) #功率\n",
    "        speed_ = int(child_f.get('SPEED')) #速度\n",
    "        \n",
    "        \n",
    "        ##扫描策略排序\n",
    "        type_i_line_point = []\n",
    "        for i, child_p in enumerate(child_f.iterfind(\"POLYLINE\")):\n",
    "            polyline_array = np.array(child_p.text.split(',')).astype(float)\n",
    "            type_i_line_point.append(list(polyline_array[1:]))  # 第一位是点数 n，第二位开始是坐标\n",
    "        \n",
    "        ##提取有效激光扫描的特征\n",
    "        if index_ ==INDEX:\n",
    "            if power_ != 0 and count_ !=0:\n",
    "                data_feature_original = pd.concat([data_feature_original,\n",
    "                                                  pd.DataFrame({'power': [power_], 'speed': [speed_], 'laser_index': [index_],\n",
    "                                                 'count': [count_], 'type': [type_], 'polyline': [type_i_line_point]})],\n",
    "                                                  ignore_index =True)\n",
    "    ## 复制合并前列表\n",
    "    data_feature = data_feature_original[['power', 'speed', 'laser_index', 'count', 'type']]\n",
    "    data_feature['polyline'] = data_feature_original.polyline.str.len() ##用polyline长度代替坐标点，相关计算节省开销 此处优化空间。\n",
    "    \n",
    "    ## 功率相等合并特征\n",
    "    data_feature = concat_adjacent_power(data_feature)\n",
    "    _index = data_feature.index.values  # 特征行索引 并未输出此值，何用？？？？\n",
    "    return data_feature, data_feature_original"
   ]
  },
  {
   "cell_type": "code",
   "execution_count": 15,
   "id": "3ece4b09",
   "metadata": {
    "ExecuteTime": {
     "end_time": "2022-11-28T08:26:03.337152Z",
     "start_time": "2022-11-28T08:26:03.235994Z"
    },
    "collapsed": true
   },
   "outputs": [
    {
     "name": "stdout",
     "output_type": "stream",
     "text": [
      "0 11 0 0 0\n",
      "0 5 1 255 1200\n",
      "0 11 0 0 0\n",
      "0 5 1 255 1200\n",
      "0 11 0 0 0\n",
      "0 5 1 255 1200\n",
      "0 11 0 0 0\n",
      "0 5 1 255 1200\n",
      "0 11 0 0 0\n",
      "0 5 1 255 1200\n",
      "0 11 0 0 0\n",
      "0 5 1 255 1200\n",
      "0 11 0 0 0\n",
      "0 5 1 255 1200\n",
      "0 11 0 0 0\n",
      "0 5 1 215 1200\n",
      "0 11 0 0 0\n",
      "0 5 1 225 1200\n",
      "0 11 0 0 0\n",
      "0 5 1 235 1200\n",
      "0 11 0 0 0\n",
      "0 5 1 245 1200\n",
      "0 11 0 0 0\n",
      "0 5 1 255 1200\n",
      "0 11 0 0 0\n",
      "0 5 1 265 1200\n",
      "0 11 0 0 0\n",
      "0 5 1 275 1200\n",
      "0 11 0 0 0\n",
      "0 5 1 285 1200\n",
      "0 11 0 0 0\n",
      "0 5 1 295 1200\n"
     ]
    }
   ],
   "source": [
    "xml_path = r'C:\\jupyter notebook\\熔池数据\\20210316_20210316094436_K438\\layer100\\Data\\100_20210316121607.xml'\n",
    "tree = ET.parse(xml_path)\n",
    "# root = tree.getroot() #获取根节点，数据处理未用上\n",
    "feature = tree.findall('FEATURE') #获取feature节点列表\n",
    "\n",
    "all_type_line_point = []\n",
    "num_poly = []\n",
    "data_feature = pd.DataFrame()\n",
    "\n",
    "#获取feature列表的特征属性信息\n",
    "for i, child_f in enumerate(feature):\n",
    "    index_ = int(child_f.get('INDEX')) #获取feature的几个属性index=0,1代表不同激光器\n",
    "    type_ = int(child_f.get('TYPE')) # 不同特征，5为实体\n",
    "    count_ = int(child_f.get('COUNT')) #count=1，0，代表扫描几次\n",
    "    power_ = int(child_f.get('POWER')) #功率\n",
    "    speed_ = int(child_f.get('SPEED')) #速度\n",
    "    print (index_, type_, count_, power_, speed_)\n",
    "    data_feature=pd.concat([data_feature,pd.DataFrame({'laser_index': [index_], 'type': [type_],\n",
    "                                                       'count': [count_], 'power': [power_], 'speed': [speed_]})],\n",
    "                           ignore_index = True)\n",
    "    \n",
    "#扫描策略排序\n",
    "    type_i_line_point = []\n",
    "    for i,child_p in enumerate(child_f.iterfind(\"POLYLINE\")):\n",
    "        polyline_array = np.array(child_p.text.split(',')).astype(float)\n",
    "        type_i_line_point.append(list(polyline_array[1:]))\n",
    "    num_poly.append(len(type_i_line_point))\n",
    "    all_type_line_point.append(type_i_line_point)\n",
    "\n",
    "data_feature['num_poly'] = num_poly   \n",
    "data_feature['polyline'] = all_type_line_point"
   ]
  },
  {
   "cell_type": "code",
   "execution_count": 22,
   "id": "a6fa2aa6",
   "metadata": {
    "ExecuteTime": {
     "end_time": "2022-11-28T09:17:32.315053Z",
     "start_time": "2022-11-28T09:17:32.305090Z"
    }
   },
   "outputs": [],
   "source": [
    "#绘制路径\n",
    "def img_path(poly_data):\n",
    "    '''路径绘图, 输入特征数据'''\n",
    "    plt.figure(figsize=(15, 15))\n",
    "    for i in range(len(poly_data)):\n",
    "        poly_data[i] = np.array(poly_data[i]).reshape(-1,1,2)\n",
    "        plt.plot(poly_data[i][:,:,0],poly_data[i][:,:,1],ls = '-',c='r')\n",
    "        plt.xlim(0,258)\n",
    "        plt.ylim(0,258)"
   ]
  },
  {
   "cell_type": "code",
   "execution_count": 23,
   "id": "18be6152",
   "metadata": {
    "ExecuteTime": {
     "end_time": "2022-11-28T09:17:36.800511Z",
     "start_time": "2022-11-28T09:17:36.788943Z"
    }
   },
   "outputs": [],
   "source": [
    "## 按特征顺序逐特征保存路径轨迹图\n",
    "def save_pathmap(data_feature):\n",
    "    '''按特征顺序逐特征保存路径轨迹图'''\n",
    "    for i in range(len(data_feature)):\n",
    "        poly_data = data_feature.loc[i, 'polyline']\n",
    "        type_ = data_feature.loc[i, \"type\"]\n",
    "        img_path(poly_data)\n",
    "        plt.title(\"type\"+str(type_),size=20)\n",
    "        plt.savefig(\"path_\"+str(i)+\"_type\"+str(type_)+\".jpg\")"
   ]
  },
  {
   "cell_type": "code",
   "execution_count": null,
   "id": "36ffb8b8",
   "metadata": {},
   "outputs": [],
   "source": []
  },
  {
   "cell_type": "code",
   "execution_count": null,
   "id": "d26f297e",
   "metadata": {},
   "outputs": [],
   "source": [
    "##特征选择方式1\n",
    "# att_type关注特征\n",
    "def select_feature(data_feature,att_type=[]):\n",
    "    if len(att_type)==0:\n",
    "        data_feature_ = data_feature.loc[(data_feature[\"power\"] != 0) & (data_feature[\"count\"] != 0)] #提取激光扫描的特征\n",
    "        _index = data_feature_.index.values #激光扫描的特征行索引        \n",
    "    else:\n",
    "        try:\n",
    "            ##特征选择方式2---关注5，6，7特征\n",
    "            data_feature_ = data_feature[data_feature.type.isin(att_type)]\n",
    "            _index = data_feature_.index.values # 关注特征行索引\n",
    "        except:\n",
    "            print(\"特征不存在，重新输入\")\n",
    "            att_type=list(input(\"输入关注特征：\"))\n",
    "            \n",
    "    return data_feature_, _index"
   ]
  },
  {
   "cell_type": "code",
   "execution_count": null,
   "id": "95456743",
   "metadata": {},
   "outputs": [],
   "source": []
  },
  {
   "cell_type": "code",
   "execution_count": null,
   "id": "b71b7e09",
   "metadata": {},
   "outputs": [],
   "source": [
    "#####功率信号分割#####\n",
    "def power_index(data11,data_13_nonoise,gl_fg,data_feature_,cur_up_index, cur_down_index):\n",
    "    GL_INDEX = []\n",
    "    for i in range(len(data_13_nonoise) - 1):\n",
    "        if abs(data_13_nonoise[i + 1] - data_13_nonoise[i]) >= gl_fg:\n",
    "            GL_INDEX.append(i)# 功率变化索引\n",
    "    GL_INDEX.append(0)\n",
    "    GL_INDEX_S = []\n",
    "    XH_INDEX=[]\n",
    "    all_type_line_signal=[]\n",
    "    all_type_line_signal_num=[]\n",
    "    for i in range(len(GL_INDEX) - 1):#连续点筛选剔除\n",
    "        if abs(GL_INDEX[i + 1] - GL_INDEX[i]) >= 2:\n",
    "            GL_INDEX_S.append(GL_INDEX[i])\n",
    "    for i in range(len(GL_INDEX_S)-1):#功率信号段索引\n",
    "        XH_INDEX.append([GL_INDEX_S[i],GL_INDEX_S[i+1]])\n",
    "    # print(XH_INDEX)\n",
    "    for i in range(len(XH_INDEX)):\n",
    "        '''\n",
    "        解决功率上升下降沿与开关上升下降沿信号错位问题，但代码计算过于繁复，可考虑直接用dataframe的index处理，\n",
    "        或用递归取第一个符合条件值；\n",
    "        现解决方法：\n",
    "        开关上升沿-功率上升沿，取最小非负值，作为特征信号起始索引；\n",
    "        开关下降沿-功率下降沿，取最大非正值作为信号段结束索引\n",
    "        '''\n",
    "        SS_D = [] #上升\n",
    "        XJ_D = [] #下降\n",
    "        for j in range(len(cur_up_index)):\n",
    "            SS_D.append(cur_up_index[j] - XH_INDEX[i][0])\n",
    "            XJ_D.append(cur_down_index[j] - XH_INDEX[i][1])\n",
    "        XH_INDEX[i][0] = cur_up_index[SS_D.index(min(ss for ss in SS_D if ss >= 0))]  # 向上取距离最近的上升沿\n",
    "        XH_INDEX[i][1] = cur_down_index[XJ_D.index(max(xj for xj in XJ_D if xj <= 0))]  # 向下取距离最近的下降沿\n",
    "        type_i_line_signal=data11[XH_INDEX[i][0]:XH_INDEX[i][1]]#分特征信号区域\n",
    "        all_type_line_signal.append(type_i_line_signal)\n",
    "    data_feature_['XH_INDEX'] = XH_INDEX\n",
    "    data_feature_['signal'] = all_type_line_signal\n",
    "    return data_feature_"
   ]
  },
  {
   "cell_type": "code",
   "execution_count": null,
   "id": "c9870880",
   "metadata": {},
   "outputs": [],
   "source": [
    "constant_pw_split = 50 #功率分割判断常量\n",
    "\n",
    "power_change_index = []\n",
    "for i in range(len(mp_df['data_pw']) - pw_interval):\n",
    "    if mp_df['data_pw'].iloc[i+pw_interval] - mp_df['data_pw'].iloc[i] >= constant_pw_split:\n",
    "        power_change_index.append(i+pw_interval)\n",
    "    elif mp_df['data_pw'].iloc[i+pw_interval] - mp_df['data_pw'].iloc[i] <= -constant_pw_split:\n",
    "        power_change_index.append(i)\n",
    "# 阶跃大于constant_pw_split存在两个或以上连续点，剔除并留一个\n",
    "power_change_index_new = [power_change_index[i] for i in range(len(power_change_index)-1)\\\n",
    "                         if abs(power_change_index[i+1]-power_change_index[i]) >=2] #保留一组最后点数,\n",
    "power_change_index_new.append(power_change_index[-1])"
   ]
  },
  {
   "cell_type": "code",
   "execution_count": null,
   "id": "b8056617",
   "metadata": {},
   "outputs": [],
   "source": [
    "constant_sw_split = 2500\n",
    "\n",
    "mp_df['data_sw'] = mp_df['data_sw'].apply(lambda x:0 if x <= constant_sw_split else 1)\n",
    "indexup = mp_df[mp_df['data_sw'].diff()>0].index.to_numpy()\n",
    "indexdown = mp_df[mp_df['data_sw'].diff()<0].index.to_numpy()"
   ]
  },
  {
   "cell_type": "code",
   "execution_count": null,
   "id": "5a3e3655",
   "metadata": {},
   "outputs": [],
   "source": [
    "##建立熔道和强度索引\n",
    "##已知索引行--按照表单索引建立\n",
    "def line_signal2(data_feature_att,_index,data11,cur_up_index, cur_down_index):\n",
    "    '''\n",
    "    data_feature——关注特征数据,dataframe\n",
    "    _index——关注特征数据行索引\n",
    "    data11——强度信号数据\n",
    "    cur_up_index——上升沿索引\n",
    "    cur_down_index——下降沿索引\n",
    "    '''\n",
    "    all_dx_line_signal=[]\n",
    "    for i in _index:\n",
    "        dx_line_signal = []\n",
    "        type_i_att=data_feature_att.loc[i, \"type\"]\n",
    "        type_i_line_point_att= data_feature_att.loc[i, 'polyline']\n",
    "        type_i_line_XH_INDEX= data_feature_att.loc[i,'XH_INDEX'] #信号区间索引\n",
    "        # print(type_i_line_point_att,type_i_att,type_i_line_XH_INDEX)\n",
    "        dx_line_num=len(type_i_line_point_att) #该特征熔道数\n",
    "        # 该特征开关信号索引区间\n",
    "        begin_=cur_up_index.index(type_i_line_XH_INDEX[0])\n",
    "        end_=cur_down_index.index(type_i_line_XH_INDEX[1])+1 ##起始是0，索引时+1\n",
    "        dx_up_XH_INDEX = cur_up_index[begin_:end_]\n",
    "        dx_down_XH_INDEX = cur_down_index[begin_:end_]\n",
    "        \n",
    "        i_dx_signal=[]\n",
    "        for j in range(len(dx_up_XH_INDEX)):\n",
    "            dx_signal = data11[dx_up_XH_INDEX[j]:dx_down_XH_INDEX[j]]  # 分割特征信号，用上升沿和下降沿取熔道信号段\n",
    "            i_dx_signal.append(dx_signal) #单道信号索引[s1,s2,...]\n",
    "        dx_signal_num=len(i_dx_signal) #该特征熔道信号数\n",
    "        # print(i_dx_signal,dx_signal_num)\n",
    "        ##判断信号与熔道维度\n",
    "        '''目前该方法没有判断哪里缺失，直接前后舍弃或者前后补0'''\n",
    "        if dx_line_num <= dx_signal_num: #分割信号多或者相等\n",
    "            i_dx_signal=i_dx_signal[0:dx_line_num]\n",
    "        else: #分割信号缺失，填充，补0，前后补0，保持维度一致\n",
    "            i_dx_signal=i_dx_signal+[[0]*4]*(dx_line_num - dx_signal_num)\n",
    "        #连接索引\n",
    "        for j in range(dx_line_num):\n",
    "            dx_line_signal.append([type_i_att,j,type_i_line_point_att[j],i_dx_signal[j]]) #单索引[type,熔道序号，熔道[x,y]，信号]\n",
    "        data_feature_att.loc[i, 'dx_line_signal'] = [dx_line_signal]\n",
    "    all_dx_line_signal.append(dx_line_signal)\n",
    "    return data_feature_att, all_dx_line_signal"
   ]
  },
  {
   "cell_type": "markdown",
   "id": "90161c75",
   "metadata": {},
   "source": [
    "- 逐特征：\n",
    "  - 信号区间内，计算特征熔道数\n",
    "  - 创建特征开关信号索引区间，即开关上升沿和下降沿的索引区间\n",
    "  - for循环，用上升沿和下降沿遍历分割取熔道信号段，形成单道信号组成的索引列表，计算特征下熔道信号数\n",
    "  - 进行路径和信号数维度判断：\n",
    "     - 如分割信号大于等于路径，信号索引向后舍弃；\n",
    "     - 反之，向后补零\n",
    "     - - 遗留问题：未能有效定位，如中间丢失数据呢？\n",
    "     \n",
    "  - 连接索引\n",
    "     - 创建[type, 熔道序号， 熔道[x,y],信号段]组成的列表\n",
    "     - 给关注特征data_feature_att，创建路径-信号关联列\n",
    "     - - 问题：dataframe中再用列表，未能发挥dataframe的作用，dataframe本身自带索引功能，未能有效利用。"
   ]
  },
  {
   "cell_type": "code",
   "execution_count": null,
   "id": "70fa98e5",
   "metadata": {},
   "outputs": [],
   "source": [
    "##绘制关注熔道的轨迹和强度图\n",
    "def dx_line_signal_map(_index, m=0, n=-1):\n",
    "    for i in _index:\n",
    "        line_signal = data_feature_att.loc[i, 'dx_line_signal'][0][m:n]\n",
    "        line_signal.append(data_feature_att.loc[i, 'dx_line_signal'][0][n])\n",
    "        # print(line_signal) #获取关注特征信息\n",
    "        poly_line={}\n",
    "        poly_signal=[]\n",
    "        plt.figure(figsize=(20, 15))\n",
    "        plt.subplot(2, 1, 1)\n",
    "        for j in range(len(line_signal)):\n",
    "            poly_line[j] = np.array(line_signal[j][2]).reshape(-1, 1, 2) #获取轨迹\n",
    "            plt.plot(poly_line[j][:, :, 0], poly_line[j][:, :, 1], ls='-', c='r')\n",
    "            plt.xlim(0, 250)\n",
    "            plt.ylim(0, 250)\n",
    "            poly_signal.append(line_signal[j][3]) #获取对应强度\n",
    "        plt.title(\"index_\"+str(i)+\"_path\",size=20)\n",
    "        plt.subplot(2, 1, 2)\n",
    "        mn_y =np.concatenate(poly_signal,axis=0)  #强度合并\n",
    "        \n",
    "        mn_x = range(len(mn_y))\n",
    "        plt.plot(mn_x, mn_y, '-', c='g')\n",
    "        plt.title(\"index_\"+str(i)+\"_signal\",size=20)\n",
    "        plt.savefig(\"index_\"+str(i)+\".jpg\")\n",
    "        # plt.show()"
   ]
  }
 ],
 "metadata": {
  "kernelspec": {
   "display_name": "Python 3 (ipykernel)",
   "language": "python",
   "name": "python3"
  },
  "language_info": {
   "codemirror_mode": {
    "name": "ipython",
    "version": 3
   },
   "file_extension": ".py",
   "mimetype": "text/x-python",
   "name": "python",
   "nbconvert_exporter": "python",
   "pygments_lexer": "ipython3",
   "version": "3.9.13"
  },
  "toc": {
   "base_numbering": 1,
   "nav_menu": {},
   "number_sections": true,
   "sideBar": true,
   "skip_h1_title": false,
   "title_cell": "Table of Contents",
   "title_sidebar": "Contents",
   "toc_cell": false,
   "toc_position": {},
   "toc_section_display": true,
   "toc_window_display": false
  },
  "varInspector": {
   "cols": {
    "lenName": 16,
    "lenType": 16,
    "lenVar": 40
   },
   "kernels_config": {
    "python": {
     "delete_cmd_postfix": "",
     "delete_cmd_prefix": "del ",
     "library": "var_list.py",
     "varRefreshCmd": "print(var_dic_list())"
    },
    "r": {
     "delete_cmd_postfix": ") ",
     "delete_cmd_prefix": "rm(",
     "library": "var_list.r",
     "varRefreshCmd": "cat(var_dic_list()) "
    }
   },
   "types_to_exclude": [
    "module",
    "function",
    "builtin_function_or_method",
    "instance",
    "_Feature"
   ],
   "window_display": false
  }
 },
 "nbformat": 4,
 "nbformat_minor": 5
}
